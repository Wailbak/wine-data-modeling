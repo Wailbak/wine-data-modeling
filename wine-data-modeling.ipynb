{
 "cells": [
  {
   "cell_type": "markdown",
   "id": "2caaa097",
   "metadata": {},
   "source": [
    "#    * First part : Importing our Data and Analyzing it *"
   ]
  },
  {
   "cell_type": "code",
   "execution_count": 3,
   "id": "333f890d",
   "metadata": {},
   "outputs": [
    {
     "data": {
      "text/html": [
       "<div>\n",
       "<style scoped>\n",
       "    .dataframe tbody tr th:only-of-type {\n",
       "        vertical-align: middle;\n",
       "    }\n",
       "\n",
       "    .dataframe tbody tr th {\n",
       "        vertical-align: top;\n",
       "    }\n",
       "\n",
       "    .dataframe thead th {\n",
       "        text-align: right;\n",
       "    }\n",
       "</style>\n",
       "<table border=\"1\" class=\"dataframe\">\n",
       "  <thead>\n",
       "    <tr style=\"text-align: right;\">\n",
       "      <th></th>\n",
       "      <th>wine</th>\n",
       "      <th>vintage</th>\n",
       "      <th>region</th>\n",
       "      <th>varietal</th>\n",
       "      <th>rating</th>\n",
       "      <th>price</th>\n",
       "    </tr>\n",
       "  </thead>\n",
       "  <tbody>\n",
       "    <tr>\n",
       "      <th>0</th>\n",
       "      <td>Rust en Vrede Cabernet Sauvignon</td>\n",
       "      <td>4</td>\n",
       "      <td>South Africa</td>\n",
       "      <td>Cabernet Sauvignon</td>\n",
       "      <td>91</td>\n",
       "      <td>29.99</td>\n",
       "    </tr>\n",
       "    <tr>\n",
       "      <th>1</th>\n",
       "      <td>Bonterra Organically Grown Merlot</td>\n",
       "      <td>4</td>\n",
       "      <td>California</td>\n",
       "      <td>Merlot</td>\n",
       "      <td>90</td>\n",
       "      <td>14.99</td>\n",
       "    </tr>\n",
       "    <tr>\n",
       "      <th>2</th>\n",
       "      <td>Allegrini Palazzo della Torre</td>\n",
       "      <td>2</td>\n",
       "      <td>Italy</td>\n",
       "      <td>Other Red</td>\n",
       "      <td>90</td>\n",
       "      <td>19.99</td>\n",
       "    </tr>\n",
       "    <tr>\n",
       "      <th>3</th>\n",
       "      <td>Marcarini Barolo Brunate</td>\n",
       "      <td>2</td>\n",
       "      <td>Italy</td>\n",
       "      <td>Other Red</td>\n",
       "      <td>94</td>\n",
       "      <td>55.99</td>\n",
       "    </tr>\n",
       "    <tr>\n",
       "      <th>4</th>\n",
       "      <td>Chateau Beausejour Duffau</td>\n",
       "      <td>3</td>\n",
       "      <td>France</td>\n",
       "      <td>Other Red</td>\n",
       "      <td>96</td>\n",
       "      <td>97.99</td>\n",
       "    </tr>\n",
       "  </tbody>\n",
       "</table>\n",
       "</div>"
      ],
      "text/plain": [
       "                                 wine  vintage        region  \\\n",
       "0   Rust en Vrede Cabernet Sauvignon         4  South Africa   \n",
       "1  Bonterra Organically Grown Merlot         4    California   \n",
       "2      Allegrini Palazzo della Torre         2         Italy   \n",
       "3           Marcarini Barolo Brunate         2         Italy   \n",
       "4          Chateau Beausejour Duffau         3        France   \n",
       "\n",
       "             varietal  rating  price  \n",
       "0  Cabernet Sauvignon      91  29.99  \n",
       "1              Merlot      90  14.99  \n",
       "2           Other Red      90  19.99  \n",
       "3           Other Red      94  55.99  \n",
       "4           Other Red      96  97.99  "
      ]
     },
     "execution_count": 3,
     "metadata": {},
     "output_type": "execute_result"
    }
   ],
   "source": [
    "import pandas as pd\n",
    "import warnings\n",
    "warnings.filterwarnings('ignore')\n",
    "\n",
    "# Loading the dataset\n",
    "df = pd.read_csv(r'C:\\Users\\wailb\\Desktop\\IronHack LABS\\wine-data-modeling\\wine.csv')\n",
    "\n",
    "df.head()"
   ]
  },
  {
   "cell_type": "code",
   "execution_count": 4,
   "id": "efd4b88e",
   "metadata": {},
   "outputs": [
    {
     "name": "stdout",
     "output_type": "stream",
     "text": [
      "<class 'pandas.core.frame.DataFrame'>\n",
      "RangeIndex: 200 entries, 0 to 199\n",
      "Data columns (total 6 columns):\n",
      " #   Column    Non-Null Count  Dtype  \n",
      "---  ------    --------------  -----  \n",
      " 0   wine      200 non-null    object \n",
      " 1   vintage   200 non-null    int64  \n",
      " 2   region    200 non-null    object \n",
      " 3   varietal  200 non-null    object \n",
      " 4   rating    200 non-null    int64  \n",
      " 5   price     200 non-null    float64\n",
      "dtypes: float64(1), int64(2), object(3)\n",
      "memory usage: 9.5+ KB\n"
     ]
    }
   ],
   "source": [
    "df.info()"
   ]
  },
  {
   "cell_type": "code",
   "execution_count": 5,
   "id": "69806844",
   "metadata": {},
   "outputs": [
    {
     "data": {
      "text/html": [
       "<div>\n",
       "<style scoped>\n",
       "    .dataframe tbody tr th:only-of-type {\n",
       "        vertical-align: middle;\n",
       "    }\n",
       "\n",
       "    .dataframe tbody tr th {\n",
       "        vertical-align: top;\n",
       "    }\n",
       "\n",
       "    .dataframe thead th {\n",
       "        text-align: right;\n",
       "    }\n",
       "</style>\n",
       "<table border=\"1\" class=\"dataframe\">\n",
       "  <thead>\n",
       "    <tr style=\"text-align: right;\">\n",
       "      <th></th>\n",
       "      <th>vintage</th>\n",
       "      <th>rating</th>\n",
       "      <th>price</th>\n",
       "    </tr>\n",
       "  </thead>\n",
       "  <tbody>\n",
       "    <tr>\n",
       "      <th>count</th>\n",
       "      <td>200.000000</td>\n",
       "      <td>200.000000</td>\n",
       "      <td>200.000000</td>\n",
       "    </tr>\n",
       "    <tr>\n",
       "      <th>mean</th>\n",
       "      <td>3.345000</td>\n",
       "      <td>92.030000</td>\n",
       "      <td>44.621050</td>\n",
       "    </tr>\n",
       "    <tr>\n",
       "      <th>std</th>\n",
       "      <td>1.328457</td>\n",
       "      <td>2.374297</td>\n",
       "      <td>46.690988</td>\n",
       "    </tr>\n",
       "    <tr>\n",
       "      <th>min</th>\n",
       "      <td>0.000000</td>\n",
       "      <td>88.000000</td>\n",
       "      <td>7.990000</td>\n",
       "    </tr>\n",
       "    <tr>\n",
       "      <th>25%</th>\n",
       "      <td>2.000000</td>\n",
       "      <td>90.000000</td>\n",
       "      <td>17.990000</td>\n",
       "    </tr>\n",
       "    <tr>\n",
       "      <th>50%</th>\n",
       "      <td>4.000000</td>\n",
       "      <td>91.000000</td>\n",
       "      <td>25.990000</td>\n",
       "    </tr>\n",
       "    <tr>\n",
       "      <th>75%</th>\n",
       "      <td>4.000000</td>\n",
       "      <td>93.000000</td>\n",
       "      <td>55.240000</td>\n",
       "    </tr>\n",
       "    <tr>\n",
       "      <th>max</th>\n",
       "      <td>6.000000</td>\n",
       "      <td>100.000000</td>\n",
       "      <td>269.000000</td>\n",
       "    </tr>\n",
       "  </tbody>\n",
       "</table>\n",
       "</div>"
      ],
      "text/plain": [
       "          vintage      rating       price\n",
       "count  200.000000  200.000000  200.000000\n",
       "mean     3.345000   92.030000   44.621050\n",
       "std      1.328457    2.374297   46.690988\n",
       "min      0.000000   88.000000    7.990000\n",
       "25%      2.000000   90.000000   17.990000\n",
       "50%      4.000000   91.000000   25.990000\n",
       "75%      4.000000   93.000000   55.240000\n",
       "max      6.000000  100.000000  269.000000"
      ]
     },
     "execution_count": 5,
     "metadata": {},
     "output_type": "execute_result"
    }
   ],
   "source": [
    "df.describe()"
   ]
  },
  {
   "cell_type": "markdown",
   "id": "b3607e3b",
   "metadata": {},
   "source": [
    "___\n",
    "# * Second Part :  Exploratory Data Analysis (EDA) *"
   ]
  },
  {
   "cell_type": "code",
   "execution_count": 6,
   "id": "d4d83490",
   "metadata": {},
   "outputs": [
    {
     "data": {
      "image/png": "[encoded data removed]",
      "text/plain": [
       "<Figure size 1400x600 with 2 Axes>"
      ]
     },
     "metadata": {},
     "output_type": "display_data"
    },
    {
     "data": {
      "image/png": "[encoded data removed]",
      "text/plain": [
       "<Figure size 1200x600 with 1 Axes>"
      ]
     },
     "metadata": {},
     "output_type": "display_data"
    },
    {
     "data": {
      "image/png": "[encoded data removed]",
      "text/plain": [
       "<Figure size 1200x600 with 1 Axes>"
      ]
     },
     "metadata": {},
     "output_type": "display_data"
    }
   ],
   "source": [
    "import seaborn as sns\n",
    "import matplotlib.pyplot as plt\n",
    "\n",
    "sns.set(style=\"darkgrid\")\n",
    "plt.style.use(\"dark_background\")\n",
    "\n",
    "# Plotting distribution of ratings and prices to get a sense of the data spread\n",
    "fig, ax = plt.subplots(1, 2, figsize=(14, 6))\n",
    "\n",
    "# Rating distribution\n",
    "sns.histplot(df['rating'], bins=10, kde=True, color=\"skyblue\", ax=ax[0])\n",
    "ax[0].set_title('Rating Distribution')\n",
    "\n",
    "# Price distribution\n",
    "sns.histplot(df['price'], bins=20, kde=True, color=\"skyblue\", ax=ax[1])\n",
    "ax[1].set_title('Price Distribution')\n",
    "\n",
    "plt.tight_layout()\n",
    "plt.show()\n",
    "\n",
    "# Counting by region\n",
    "plt.figure(figsize=(12, 6))\n",
    "region_order = df['region'].value_counts().index\n",
    "sns.countplot(y='region', data=df, order=region_order, palette=\"Blues_r\")\n",
    "plt.title('Count of Wines by Region')\n",
    "plt.xlabel('Count')\n",
    "plt.ylabel('Region')\n",
    "plt.show()\n",
    "\n",
    "# Counting by varietal\n",
    "plt.figure(figsize=(12, 6))\n",
    "varietal_order = df['varietal'].value_counts().index\n",
    "sns.countplot(y='varietal', data=df, order=varietal_order, palette=\"Blues_r\")\n",
    "plt.title('Count of Wines by Varietal')\n",
    "plt.xlabel('Count')\n",
    "plt.ylabel('Varietal')\n",
    "plt.show()"
   ]
  },
  {
   "cell_type": "markdown",
   "id": "0e24e6e8",
   "metadata": {},
   "source": [
    "## _Key Insights_:\n",
    "__Ratings:__\n",
    "* The wine ratings range from 88 to 100, with a mean rating of 92.\n",
    "* Distribution shows a normal-like trend, skewed towards higher ratings.\n",
    "\n",
    "__Prices__:\n",
    "* Prices vary widely, from 7.99USD to 269USD, with an average price of 44.62USD.\n",
    "* The price distribution is right-skewed, indicating a concentration of wines in the lower price range with a few high-priced outliers.\n",
    "\n",
    "\n",
    "__Vintage Issue__:\n",
    "* The vintage data seems to be incorrectly recorded or represents a coded value rather than the actual year, ranging from 0 to 6.\n",
    "\n"
   ]
  },
  {
   "cell_type": "markdown",
   "id": "6684785d",
   "metadata": {},
   "source": [
    "___\n",
    "# * Third Part : Data Cleaning *"
   ]
  },
  {
   "cell_type": "code",
   "execution_count": 7,
   "id": "86ab44b5",
   "metadata": {},
   "outputs": [
    {
     "data": {
      "text/plain": [
       "{'duplicates': 39,\n",
       " 'unique_wines': 161,\n",
       " 'unique_regions': 7,\n",
       " 'unique_varietals': 9,\n",
       " 'outliers_count': 15,\n",
       " 'outliers':                                              wine  vintage      region  \\\n",
       " 23                                   Gaja Sperss         2       Italy   \n",
       " 52                Clarendon Hills Astralis Syrah         0   Australia   \n",
       " 54                Clarendon Hills Astralis Syrah         0   Australia   \n",
       " 67                                   Gaja Sperss         2       Italy   \n",
       " 71                                   Gaja Sperss         2       Italy   \n",
       " 77                                Chateau Gracia         3      France   \n",
       " 87                              Chateau Montrose         2      France   \n",
       " 88                          Chateau Rauzan Segla         2      France   \n",
       " 92                                   Gaja Sperss         2       Italy   \n",
       " 105               Clarendon Hills Astralis Syrah         0   Australia   \n",
       " 126                          Chateau Lynch-Bages         2      France   \n",
       " 145  Chateau Montelena Estate Cabernet Sauvignon         3  California   \n",
       " 148                        Tenuta dell'Ornellaia         3       Italy   \n",
       " 172               Clarendon Hills Astralis Syrah         0   Australia   \n",
       " 179  Chateau Montelena Estate Cabernet Sauvignon         3  California   \n",
       " \n",
       "                varietal  rating  price  \n",
       " 23            Other Red      97  239.0  \n",
       " 52         Syrah/Shiraz      97  139.0  \n",
       " 54         Syrah/Shiraz      97  139.0  \n",
       " 67            Other Red      97  239.0  \n",
       " 71            Other Red      97  239.0  \n",
       " 77            Other Red      95  129.0  \n",
       " 87            Other Red     100  269.0  \n",
       " 88            Other Red      98  145.0  \n",
       " 92            Other Red      97  239.0  \n",
       " 105        Syrah/Shiraz      97  139.0  \n",
       " 126           Other Red      98  189.0  \n",
       " 145  Cabernet Sauvignon      92  115.0  \n",
       " 148           Other Red      97  219.0  \n",
       " 172        Syrah/Shiraz      97  139.0  \n",
       " 179  Cabernet Sauvignon      92  115.0  }"
      ]
     },
     "execution_count": 7,
     "metadata": {},
     "output_type": "execute_result"
    }
   ],
   "source": [
    "# Let's start the data cleaning process by performing the checks outlined:\n",
    "\n",
    "# Checking for duplicate rows\n",
    "duplicates = df.duplicated().sum()\n",
    "\n",
    "# Checking for inconsistencies in categorical data\n",
    "wine_unique = df['wine'].unique()\n",
    "region_unique = df['region'].unique()\n",
    "varietal_unique = df['varietal'].unique()\n",
    "\n",
    "# Outliers examination for 'price' using the IQR method\n",
    "Q1 = df['price'].quantile(0.25)\n",
    "Q3 = df['price'].quantile(0.75)\n",
    "IQR = Q3 - Q1\n",
    "lower_bound = Q1 - 1.5 * IQR\n",
    "upper_bound = Q3 + 1.5 * IQR\n",
    "outliers = df[(df['price'] < lower_bound) | (df['price'] > upper_bound)]\n",
    "\n",
    "# Summary of findings\n",
    "{\n",
    "    'duplicates': duplicates,\n",
    "    'unique_wines': len(wine_unique),\n",
    "    'unique_regions': len(region_unique),\n",
    "    'unique_varietals': len(varietal_unique),\n",
    "    'outliers_count': outliers.shape[0],\n",
    "    'outliers': outliers\n",
    "}"
   ]
  },
  {
   "cell_type": "markdown",
   "id": "b01eee38",
   "metadata": {},
   "source": [
    "## _Data Cleaning Insights_:\n",
    "\n",
    "\n",
    "__Duplicates:__ 39 duplicate rows.\n",
    "\n",
    "__Unique Values:__\n",
    "* 161 unique wines.\n",
    "* 7 unique regions.\n",
    "* 9 unique varietals.\n",
    "\n",
    "__Outliers in Price:__\n",
    "* 15 outliers based on the IQR method.\n",
    "* Some wines are significantly more expensive, e.g., Gaja Sperss at $239."
   ]
  },
  {
   "cell_type": "code",
   "execution_count": 8,
   "id": "e4d27a70",
   "metadata": {},
   "outputs": [
    {
     "data": {
      "text/plain": [
       "({'initial_count': 200, 'cleaned_count': 161, 'duplicates_removed': 39},\n",
       "                                  wine  vintage        region  \\\n",
       " 0   Rust en Vrede Cabernet Sauvignon         4  South Africa   \n",
       " 1  Bonterra Organically Grown Merlot         4    California   \n",
       " 2      Allegrini Palazzo della Torre         2         Italy   \n",
       " 3           Marcarini Barolo Brunate         2         Italy   \n",
       " 4          Chateau Beausejour Duffau         3        France   \n",
       " \n",
       "              varietal  rating  price  \n",
       " 0  Cabernet Sauvignon      91  29.99  \n",
       " 1              Merlot      90  14.99  \n",
       " 2           Other Red      90  19.99  \n",
       " 3           Other Red      94  55.99  \n",
       " 4           Other Red      96  97.99  )"
      ]
     },
     "execution_count": 8,
     "metadata": {},
     "output_type": "execute_result"
    }
   ],
   "source": [
    "# Performing the cleaning actions based on the findings\n",
    "\n",
    "# Removing duplicate rows\n",
    "df_cleaned = df.drop_duplicates()\n",
    "\n",
    "# As the outliers are possibly rare or high-value wines, we will not remove them for now,\n",
    "\n",
    "# Considering the 'vintage' column issue, we need clarification on what the values represent before proceeding.\n",
    "# Therefore, we will not alter the 'vintage' column at this point.\n",
    "\n",
    "# Re-checking the dataset after cleaning\n",
    "cleaned_info = {\n",
    "    'initial_count': df.shape[0],\n",
    "    'cleaned_count': df_cleaned.shape[0],\n",
    "    'duplicates_removed': df.shape[0] - df_cleaned.shape[0]\n",
    "}\n",
    "\n",
    "cleaned_info, df_cleaned.head()"
   ]
  },
  {
   "cell_type": "markdown",
   "id": "1ac30927",
   "metadata": {},
   "source": [
    "# * Understanding the Feature \"Vintage\" more before moving to ML *"
   ]
  },
  {
   "cell_type": "code",
   "execution_count": 9,
   "id": "9b15ef33",
   "metadata": {
    "scrolled": true
   },
   "outputs": [
    {
     "data": {
      "text/html": [
       "<div>\n",
       "<style scoped>\n",
       "    .dataframe tbody tr th:only-of-type {\n",
       "        vertical-align: middle;\n",
       "    }\n",
       "\n",
       "    .dataframe tbody tr th {\n",
       "        vertical-align: top;\n",
       "    }\n",
       "\n",
       "    .dataframe thead tr th {\n",
       "        text-align: left;\n",
       "    }\n",
       "\n",
       "    .dataframe thead tr:last-of-type th {\n",
       "        text-align: right;\n",
       "    }\n",
       "</style>\n",
       "<table border=\"1\" class=\"dataframe\">\n",
       "  <thead>\n",
       "    <tr>\n",
       "      <th></th>\n",
       "      <th colspan=\"3\" halign=\"left\">price</th>\n",
       "      <th colspan=\"3\" halign=\"left\">rating</th>\n",
       "    </tr>\n",
       "    <tr>\n",
       "      <th></th>\n",
       "      <th>mean</th>\n",
       "      <th>median</th>\n",
       "      <th>count</th>\n",
       "      <th>mean</th>\n",
       "      <th>median</th>\n",
       "      <th>count</th>\n",
       "    </tr>\n",
       "    <tr>\n",
       "      <th>vintage</th>\n",
       "      <th></th>\n",
       "      <th></th>\n",
       "      <th></th>\n",
       "      <th></th>\n",
       "      <th></th>\n",
       "      <th></th>\n",
       "    </tr>\n",
       "  </thead>\n",
       "  <tbody>\n",
       "    <tr>\n",
       "      <th>0</th>\n",
       "      <td>78.245000</td>\n",
       "      <td>69.495</td>\n",
       "      <td>4</td>\n",
       "      <td>94.250000</td>\n",
       "      <td>94.5</td>\n",
       "      <td>4</td>\n",
       "    </tr>\n",
       "    <tr>\n",
       "      <th>1</th>\n",
       "      <td>48.865000</td>\n",
       "      <td>44.990</td>\n",
       "      <td>8</td>\n",
       "      <td>92.750000</td>\n",
       "      <td>92.5</td>\n",
       "      <td>8</td>\n",
       "    </tr>\n",
       "    <tr>\n",
       "      <th>2</th>\n",
       "      <td>63.371379</td>\n",
       "      <td>39.990</td>\n",
       "      <td>29</td>\n",
       "      <td>93.551724</td>\n",
       "      <td>94.0</td>\n",
       "      <td>29</td>\n",
       "    </tr>\n",
       "    <tr>\n",
       "      <th>3</th>\n",
       "      <td>50.612973</td>\n",
       "      <td>32.990</td>\n",
       "      <td>37</td>\n",
       "      <td>91.729730</td>\n",
       "      <td>91.0</td>\n",
       "      <td>37</td>\n",
       "    </tr>\n",
       "    <tr>\n",
       "      <th>4</th>\n",
       "      <td>29.881091</td>\n",
       "      <td>23.990</td>\n",
       "      <td>55</td>\n",
       "      <td>91.436364</td>\n",
       "      <td>91.0</td>\n",
       "      <td>55</td>\n",
       "    </tr>\n",
       "    <tr>\n",
       "      <th>5</th>\n",
       "      <td>21.823333</td>\n",
       "      <td>17.990</td>\n",
       "      <td>24</td>\n",
       "      <td>90.458333</td>\n",
       "      <td>90.0</td>\n",
       "      <td>24</td>\n",
       "    </tr>\n",
       "    <tr>\n",
       "      <th>6</th>\n",
       "      <td>12.740000</td>\n",
       "      <td>12.990</td>\n",
       "      <td>4</td>\n",
       "      <td>91.000000</td>\n",
       "      <td>90.0</td>\n",
       "      <td>4</td>\n",
       "    </tr>\n",
       "  </tbody>\n",
       "</table>\n",
       "</div>"
      ],
      "text/plain": [
       "             price                   rating             \n",
       "              mean  median count       mean median count\n",
       "vintage                                                 \n",
       "0        78.245000  69.495     4  94.250000   94.5     4\n",
       "1        48.865000  44.990     8  92.750000   92.5     8\n",
       "2        63.371379  39.990    29  93.551724   94.0    29\n",
       "3        50.612973  32.990    37  91.729730   91.0    37\n",
       "4        29.881091  23.990    55  91.436364   91.0    55\n",
       "5        21.823333  17.990    24  90.458333   90.0    24\n",
       "6        12.740000  12.990     4  91.000000   90.0     4"
      ]
     },
     "execution_count": 9,
     "metadata": {},
     "output_type": "execute_result"
    }
   ],
   "source": [
    "# Grouping by 'vintage' to see if there's any discernible pattern related to 'price' and 'rating'.\n",
    "vintage_analysis = df_cleaned.groupby('vintage')[['price', 'rating']].agg(['mean', 'median', 'count'])\n",
    "\n",
    "vintage_analysis"
   ]
  },
  {
   "cell_type": "markdown",
   "id": "61799cfa",
   "metadata": {},
   "source": [
    "## _Statistical Analysis on 'Vintage' Feature_\n",
    "The vintage feature has an inverse relationship with both price and rating. As the vintage value increases, both price and rating tend to decrease. Here's a summary by vintage:\n",
    "\n",
    "* __0:__ High average price (78.24USD), high ratings.\n",
    "\n",
    "* __1:__ Moderate average price (48.86USD), high ratings.\n",
    "\n",
    "* __2:__ Variable average price (63.37USD), high ratings.\n",
    "\n",
    "* __3:__ Lower average price (50.61USD), slightly lower ratings.\n",
    "\n",
    "* __4:__ Even lower average price (29.88USD), slightly lower ratings.\n",
    "\n",
    "* __5:__ Low average price (21.82USD), lower ratings.\n",
    "\n",
    "* __6:__ Lowest average price (12.74USD), lower ratings.\n",
    "\n"
   ]
  },
  {
   "cell_type": "code",
   "execution_count": 14,
   "id": "6c1f06f6",
   "metadata": {},
   "outputs": [
    {
     "data": {
      "image/png": "[encoded data removed]",
      "text/plain": [
       "<Figure size 1400x600 with 2 Axes>"
      ]
     },
     "metadata": {},
     "output_type": "display_data"
    },
    {
     "data": {
      "text/plain": [
       "(vintage\n",
       " 0     4\n",
       " 1     8\n",
       " 2    29\n",
       " 3    37\n",
       " 4    55\n",
       " 5    24\n",
       " 6     4\n",
       " Name: count, dtype: int64,\n",
       "             rating      price\n",
       " vintage                      \n",
       " 0        94.250000  78.245000\n",
       " 1        92.750000  48.865000\n",
       " 2        93.551724  63.371379\n",
       " 3        91.729730  50.612973\n",
       " 4        91.436364  29.881091\n",
       " 5        90.458333  21.823333\n",
       " 6        91.000000  12.740000)"
      ]
     },
     "execution_count": 14,
     "metadata": {},
     "output_type": "execute_result"
    }
   ],
   "source": [
    "# Plotting the 'vintage' feature further to understand its distribution and its relation to other features\n",
    "\n",
    "# Count of each vintage value\n",
    "vintage_count = df_cleaned['vintage'].value_counts().sort_index()\n",
    "\n",
    "# Average rating and price by vintage\n",
    "vintage_avg_rating_price = df_cleaned.groupby('vintage')[['rating', 'price']].mean()\n",
    "\n",
    "# Plotting the distribution of 'vintage'\n",
    "plt.figure(figsize=(14, 6))\n",
    "\n",
    "# Subplot 1: Count of each vintage\n",
    "plt.subplot(1, 2, 1)\n",
    "sns.barplot(x=vintage_count.index, y=vintage_count.values, palette=\"Blues_r\")\n",
    "plt.title('Distribution of Vintage Values')\n",
    "plt.xlabel('Vintage')\n",
    "plt.ylabel('Count')\n",
    "\n",
    "# Subplot 2: Average rating and price by vintage\n",
    "plt.subplot(1, 2, 2)\n",
    "sns.lineplot(data=vintage_avg_rating_price, markers=True, dashes=False)\n",
    "plt.title('Average Rating and Price by Vintage')\n",
    "plt.xlabel('Vintage')\n",
    "plt.ylabel('Value')\n",
    "\n",
    "plt.tight_layout()\n",
    "plt.show()\n",
    "\n",
    "vintage_count, vintage_avg_rating_price\n"
   ]
  },
  {
   "cell_type": "markdown",
   "id": "b30049c8",
   "metadata": {},
   "source": [
    " ### _Vintage Exploration Insights_:\n",
    " * The vintage values range from 0 to 6, with the majority of wines falling within the 2 to 4 range, suggesting a possible categorization rather than specific years.\n",
    " \n",
    " #### Vintage Values counts :\n",
    "\n",
    "\n",
    "* __0:__ 4 wines\n",
    "* __1:__ 8 wines\n",
    "* __2:__ 29 wines\n",
    "* __3:__ 37 wines (most common)\n",
    "* __4:__ 55 wines (also very common)\n",
    "* __5:__ 24 wines\n",
    "* __6:__ 4 wines (least common)"
   ]
  },
  {
   "cell_type": "markdown",
   "id": "15b52f57",
   "metadata": {},
   "source": [
    "___\n",
    "#  Machine Learning (ML)\n",
    "Using _Decision Tree Regressor_, _Random Forest Regressor_ and _K-Neighbors Regressor_"
   ]
  },
  {
   "cell_type": "code",
   "execution_count": 15,
   "id": "b1e73a9e",
   "metadata": {},
   "outputs": [
    {
     "data": {
      "text/plain": [
       "{'DecisionTreeRegressor': {'MAE': 18.03060606060606,\n",
       "  'MSE': 1086.290306060606,\n",
       "  'RMSE': 32.958918460116465,\n",
       "  'R2': -0.0494894695896424},\n",
       " 'RandomForestRegressor': {'MAE': 13.786490909090906,\n",
       "  'MSE': 511.6699936575765,\n",
       "  'RMSE': 22.620123643728753,\n",
       "  'R2': 0.5056641238049804},\n",
       " 'KNeighborsRegressor': {'MAE': 15.340484848484849,\n",
       "  'MSE': 389.2596928484848,\n",
       "  'RMSE': 19.729665299960992,\n",
       "  'R2': 0.6239274655209974}}"
      ]
     },
     "execution_count": 15,
     "metadata": {},
     "output_type": "execute_result"
    }
   ],
   "source": [
    "from sklearn.model_selection import train_test_split\n",
    "from sklearn.preprocessing import StandardScaler, OneHotEncoder\n",
    "from sklearn.compose import ColumnTransformer\n",
    "from sklearn.pipeline import Pipeline\n",
    "from sklearn.impute import SimpleImputer\n",
    "from sklearn.tree import DecisionTreeRegressor\n",
    "from sklearn.ensemble import RandomForestRegressor\n",
    "from sklearn.neighbors import KNeighborsRegressor\n",
    "from sklearn.metrics import mean_absolute_error, mean_squared_error, r2_score\n",
    "import numpy as np\n",
    "\n",
    "# Preparing the data for modeling\n",
    "# Features and target\n",
    "X = df_cleaned.drop('price', axis=1)\n",
    "y = df_cleaned['price']\n",
    "\n",
    "# Encoding categorical features and scaling numerical features\n",
    "numerical_features = ['vintage','rating']\n",
    "categorical_features = ['wine', 'region', 'varietal']\n",
    "\n",
    "# Creating transformers\n",
    "numerical_transformer = Pipeline(steps=[\n",
    "    ('imputer', SimpleImputer(strategy='median')),\n",
    "    ('scaler', StandardScaler())\n",
    "])\n",
    "\n",
    "categorical_transformer = OneHotEncoder(handle_unknown='ignore')\n",
    "\n",
    "# Column transformer to apply the transformations\n",
    "preprocessor = ColumnTransformer(\n",
    "    transformers=[\n",
    "        ('num', numerical_transformer, numerical_features),\n",
    "        ('cat', categorical_transformer, categorical_features)\n",
    "    ])\n",
    "\n",
    "# Splitting the dataset into train and test sets\n",
    "X_train, X_test, y_train, y_test = train_test_split(X, y, test_size=0.2, random_state=42)\n",
    "\n",
    "# Function to evaluate and return model performance\n",
    "def evaluate_model(model, X_train, X_test, y_train, y_test):\n",
    "    model_pipeline = Pipeline(steps=[('preprocessor', preprocessor),\n",
    "                                     ('model', model)])\n",
    "    \n",
    "    # Training the model pipeline\n",
    "    model_pipeline.fit(X_train, y_train)\n",
    "    \n",
    "    # Predicting\n",
    "    predictions = model_pipeline.predict(X_test)\n",
    "    \n",
    "    # Evaluating\n",
    "    mae = mean_absolute_error(y_test, predictions)\n",
    "    mse = mean_squared_error(y_test, predictions)\n",
    "    rmse = np.sqrt(mse)\n",
    "    r2 = r2_score(y_test, predictions)\n",
    "    \n",
    "    return {'MAE': mae, 'MSE': mse, 'RMSE': rmse, 'R2': r2}\n",
    "\n",
    "# Initializing models with different parameters\n",
    "models = {\n",
    "    'DecisionTreeRegressor': DecisionTreeRegressor(random_state=42),\n",
    "    'RandomForestRegressor': RandomForestRegressor(n_estimators=100, random_state=42),\n",
    "    'KNeighborsRegressor': KNeighborsRegressor(n_neighbors=5)\n",
    "}\n",
    "\n",
    "# Evaluating each model\n",
    "scores = {name: evaluate_model(model, X_train, X_test, y_train, y_test) for name, model in models.items()}\n",
    "\n",
    "scores"
   ]
  },
  {
   "cell_type": "markdown",
   "id": "addbe57c",
   "metadata": {},
   "source": [
    "### Decision Tree Regressor\n",
    "* __MAE__: 18.03\n",
    "* __MSE:__ 1086.29\n",
    "* __RMSE:__ 32.96\n",
    "* __R2:__ -0.049\n",
    "\n",
    "### Random Forest Regressor\n",
    "* __MAE:__ 13.79\n",
    "* __MSE:__ 511.67\n",
    "* __RMSE:__ 22.62\n",
    "* __R2:__ 0.506\n",
    "\n",
    "### K-Neighbors Regressor\n",
    "* __MAE:__ 15.34\n",
    "* __MSE:__ 389.26\n",
    "* __RMSE:__ 19.73\n",
    "* __R2:__ 0.624"
   ]
  },
  {
   "cell_type": "markdown",
   "id": "4f00a7a5",
   "metadata": {},
   "source": [
    "## _Key Insights from Model Evaluation:_\n",
    "\n",
    "\n",
    "* __K-Neighbors Regressor__ performed the best, suggesting that price predictions in this context may work well with non-linear, instance-based learning.\n",
    "\n",
    "* __Random Forest Regressor__ also showed promising results, outperforming the Decision Tree, likely due to its ensemble approach that reduces overfitting.\n",
    "\n",
    "* __Decision Tree Regressor__ had the weakest performance, potentially due to overfitting or lack of depth in the tree.\n",
    "Model-Specific Observations\n",
    "\n",
    "__R2 Scores:__\n",
    "The K-Neighbors model explains about 62.4% of the variance in the data, which is decent for such a diverse dataset.\n"
   ]
  },
  {
   "cell_type": "markdown",
   "id": "f6ef2a58",
   "metadata": {},
   "source": [
    "___\n",
    "# * Enhancing Our Model *\n",
    "Using Hyperparameter-tuning"
   ]
  },
  {
   "cell_type": "code",
   "execution_count": 16,
   "id": "ad1b3a1b",
   "metadata": {},
   "outputs": [
    {
     "data": {
      "text/plain": [
       "({'DecisionTreeRegressor': {'model__max_depth': None,\n",
       "   'model__min_samples_leaf': 4,\n",
       "   'model__min_samples_split': 2},\n",
       "  'RandomForestRegressor': {'model__max_depth': None,\n",
       "   'model__min_samples_leaf': 2,\n",
       "   'model__min_samples_split': 5,\n",
       "   'model__n_estimators': 50},\n",
       "  'KNeighborsRegressor': {'model__n_neighbors': 7,\n",
       "   'model__weights': 'distance'}},\n",
       " {'DecisionTreeRegressor': 872.546783021262,\n",
       "  'RandomForestRegressor': 714.6208158953757,\n",
       "  'KNeighborsRegressor': 840.2477589496323})"
      ]
     },
     "execution_count": 16,
     "metadata": {},
     "output_type": "execute_result"
    }
   ],
   "source": [
    "from sklearn.model_selection import GridSearchCV\n",
    "\n",
    "# Hyperparameter grids\n",
    "dt_params = {\n",
    "    'model__max_depth': [None, 5, 10, 15, 20],\n",
    "    'model__min_samples_split': [2, 5, 10],\n",
    "    'model__min_samples_leaf': [1, 2, 4]\n",
    "}\n",
    "\n",
    "rf_params = {\n",
    "    'model__n_estimators': [50, 100, 150],\n",
    "    'model__max_depth': [None, 5, 10, 15],\n",
    "    'model__min_samples_split': [2, 5, 10],\n",
    "    'model__min_samples_leaf': [1, 2, 4]\n",
    "}\n",
    "\n",
    "knn_params = {\n",
    "    'model__n_neighbors': [3, 5, 7, 9],\n",
    "    'model__weights': ['uniform', 'distance']\n",
    "}\n",
    "\n",
    "# Models for tuning\n",
    "models_to_tune = {\n",
    "    'DecisionTreeRegressor': (DecisionTreeRegressor(random_state=42), dt_params),\n",
    "    'RandomForestRegressor': (RandomForestRegressor(random_state=42), rf_params),\n",
    "    'KNeighborsRegressor': (KNeighborsRegressor(), knn_params)\n",
    "}\n",
    "\n",
    "# Recording the best parameters and scores\n",
    "best_params = {}\n",
    "best_scores = {}\n",
    "\n",
    "# Perform GridSearchCV for hyperparameter tuning\n",
    "for name, (model, params) in models_to_tune.items():\n",
    "    pipeline = Pipeline(steps=[('preprocessor', preprocessor),\n",
    "                               ('model', model)])\n",
    "    \n",
    "    grid_search = GridSearchCV(pipeline, param_grid=params, cv=5,\n",
    "                               scoring='neg_mean_squared_error', n_jobs=-1)\n",
    "    grid_search.fit(X_train, y_train)\n",
    "    \n",
    "    best_params[name] = grid_search.best_params_\n",
    "    best_scores[name] = -grid_search.best_score_  # Convert back to positive MSE\n",
    "\n",
    "best_params, best_scores"
   ]
  },
  {
   "cell_type": "code",
   "execution_count": 17,
   "id": "2ce8d7e3",
   "metadata": {},
   "outputs": [
    {
     "data": {
      "text/plain": [
       "{'DecisionTreeRegressor': 0.3494474841879591,\n",
       " 'RandomForestRegressor': 0.5679280815299812,\n",
       " 'KNeighborsRegressor': 0.7519672957862905}"
      ]
     },
     "execution_count": 17,
     "metadata": {},
     "output_type": "execute_result"
    }
   ],
   "source": [
    "# Recreate models with the best parameters\n",
    "dt_best_model = DecisionTreeRegressor(max_depth=None, min_samples_leaf=4, min_samples_split=2, random_state=42)\n",
    "rf_best_model = RandomForestRegressor(max_depth=None, min_samples_leaf=2, min_samples_split=5, n_estimators=50, random_state=42)\n",
    "knn_best_model = KNeighborsRegressor(n_neighbors=7, weights='distance')\n",
    "\n",
    "# Models dictionary\n",
    "models_optimized = {\n",
    "    'DecisionTreeRegressor': dt_best_model,\n",
    "    'RandomForestRegressor': rf_best_model,\n",
    "    'KNeighborsRegressor': knn_best_model\n",
    "}\n",
    "\n",
    "# Calculating R2 scores for the optimized models\n",
    "r2_scores_optimized = {}\n",
    "\n",
    "for name, model in models_optimized.items():\n",
    "    pipeline = Pipeline(steps=[('preprocessor', preprocessor),\n",
    "                               ('model', model)])\n",
    "    pipeline.fit(X_train, y_train)\n",
    "    predictions = pipeline.predict(X_test)\n",
    "    r2_scores_optimized[name] = r2_score(y_test, predictions)\n",
    "\n",
    "r2_scores_optimized\n"
   ]
  },
  {
   "cell_type": "markdown",
   "id": "3bf28f4c",
   "metadata": {},
   "source": [
    "# _Hyperparameter Tuning Results:_\n",
    "\n",
    "## Best Parameters:\n",
    "__Decision Tree Regressor__\n",
    "* Max Depth: None (unlimited)\n",
    "* Min Samples Leaf: 4\n",
    "* Min Samples Split: 2\n",
    "\n",
    "__Random Forest Regressor__\n",
    "* Max Depth: None (unlimited)\n",
    "* Min Samples Leaf: 2\n",
    "* Min Samples Split: 5\n",
    "* N Estimators: 50\n",
    "\n",
    "__K-Neighbors Regressor__\n",
    "* N Neighbors: 7\n",
    "* Weights: Distance\n",
    "\n",
    "## Best Scores:\n",
    "(__MSE__)\n",
    "* Decision Tree Regressor: 872.55\n",
    "* Random Forest Regressor: 714.62\n",
    "* K-Neighbors Regressor: 840.25\n",
    "\n",
    "(__R2__)\n",
    "* Decision Tree Regressor: 0.349\n",
    "* Random Forest Regressor: 0.568\n",
    "* K-Neighbors Regressor: 0.752"
   ]
  },
  {
   "cell_type": "markdown",
   "id": "72c83ada",
   "metadata": {},
   "source": [
    "## _Key Insights_:\n",
    "* __K-Neighbors Regressor__ stands out with the highest R2 score (0.752), indicating it explains approximately 75.2% of the variance in the wine price dataset with the test data. This performance is notably superior, suggesting that the model, with distance weighting and an optimal neighbor count of 7, captures the underlying patterns in the dataset very effectively.\n",
    "\n",
    "* __Random Forest Regressor__ also shows a strong performance with an R2 score of 0.568, reinforcing its ability to handle complex data while learning.\n",
    "* __Decision Tree Regressor__ has the lowest R2 score of 0.349, which, while better than a baseline model, indicates there's significant room for improvement. Decision Trees can be sensitive to the specific training set and might overfit or not capture the full complexity of the data without careful tuning and constraints."
   ]
  },
  {
   "cell_type": "markdown",
   "id": "f28d1954",
   "metadata": {},
   "source": [
    "## Conclusion\n",
    "\n",
    "The K-Neighbors Regressor, with the specific tuning of neighbors and weights, proved to be the most effective model for predicting wine prices in this dataset. This insight could guide the selection of models for similar predictive tasks or further exploration into feature engineering and model tuning to improve predictions."
   ]
  },
  {
   "cell_type": "markdown",
   "id": "e76580c3",
   "metadata": {},
   "source": [
    "___"
   ]
  },
  {
   "cell_type": "markdown",
   "id": "671b524a",
   "metadata": {},
   "source": [
    "# * Using our KNNRegressor Model to predict wine price *\n",
    "Selecting a random wine from our dataset to predict it's price"
   ]
  },
  {
   "cell_type": "code",
   "execution_count": 20,
   "id": "d9b3cf3e",
   "metadata": {},
   "outputs": [
    {
     "data": {
      "text/plain": [
       "(                                        wine  vintage  region      varietal  \\\n",
       " 149  Maison Nicolas Perrin Crozes-Hermitage         4  France  Syrah/Shiraz   \n",
       " \n",
       "      rating  \n",
       " 149      92  ,\n",
       " array([19.99]))"
      ]
     },
     "execution_count": 20,
     "metadata": {},
     "output_type": "execute_result"
    }
   ],
   "source": [
    "# Choosing a sample from the X_test set to make a prediction\n",
    "# This is a random choice to demonstrate how the model works\n",
    "sample_index = np.random.randint(0, len(X_test))\n",
    "sample = X_test.iloc[[sample_index]]\n",
    "\n",
    "# Predicting the price of the chosen sample using the KNeighbors Regressor model\n",
    "# We need to use the previously built pipeline for the KNeighbors Regressor for prediction\n",
    "# Extracting the model pipeline for KNeighbors Regressor\n",
    "knn_pipeline = Pipeline(steps=[('preprocessor', preprocessor),\n",
    "                               ('model', KNeighborsRegressor(n_neighbors=5))])\n",
    "\n",
    "# Fitting the model to the entire dataset (for demonstration purposes, normally we'd avoid refitting on the entire dataset)\n",
    "knn_pipeline.fit(X, y)\n",
    "\n",
    "# Making the prediction\n",
    "predicted_price = knn_pipeline.predict(sample)\n",
    "\n",
    "sample, predicted_price"
   ]
  },
  {
   "cell_type": "markdown",
   "id": "4d4e05e6",
   "metadata": {},
   "source": [
    "* __Wine:__ Yealands Sauvignon Blanc 2014\n",
    "* __Vintage:__ 6 (Based on our dataset's encoding)\n",
    "* __Region:__ New Zealand\n",
    "* __Varietal:__ Sauvignon Blanc\n",
    "* __Rating:__ 90\n",
    "\n",
    "### Predicted Price: $14.99"
   ]
  },
  {
   "cell_type": "markdown",
   "id": "2fbbcfc5",
   "metadata": {},
   "source": [
    "# * _Using our Enhanced KNN Model_ *"
   ]
  },
  {
   "cell_type": "code",
   "execution_count": 21,
   "id": "7a27a45b",
   "metadata": {},
   "outputs": [
    {
     "data": {
      "text/plain": [
       "array([24.99])"
      ]
     },
     "execution_count": 21,
     "metadata": {},
     "output_type": "execute_result"
    }
   ],
   "source": [
    "# Re-predicting with the enhanced KNeighbors Regressor model using the optimized parameters\n",
    "# Extracting the enhanced model pipeline for KNeighbors Regressor\n",
    "enhanced_knn_pipeline = Pipeline(steps=[('preprocessor', preprocessor),\n",
    "                                        ('model', KNeighborsRegressor(n_neighbors=7, weights='distance'))])\n",
    "\n",
    "# Fitting the enhanced model to the entire dataset\n",
    "enhanced_knn_pipeline.fit(X, y)\n",
    "\n",
    "# Making the prediction using the same sample as before\n",
    "enhanced_predicted_price = enhanced_knn_pipeline.predict(sample)\n",
    "\n",
    "enhanced_predicted_price\n"
   ]
  },
  {
   "cell_type": "markdown",
   "id": "d6b3b4c7",
   "metadata": {},
   "source": [
    "### Predicted Price: $24.99"
   ]
  },
  {
   "cell_type": "markdown",
   "id": "184fc9ce",
   "metadata": {},
   "source": [
    "This result, compared to the initial prediction suggest that the refined model parameters provide a different estimation\n",
    "\n",
    "__Conclusion__ : The hyperparameter tuning demonstrates how such optimizations can lead to significant changes in the model's output"
   ]
  },
  {
   "cell_type": "markdown",
   "id": "0463d956",
   "metadata": {},
   "source": [
    "___\n",
    "# * For Learning Pusrposes : Applying Deep Neural Network *"
   ]
  },
  {
   "cell_type": "code",
   "execution_count": 29,
   "id": "a5fe0e47",
   "metadata": {},
   "outputs": [
    {
     "name": "stdout",
     "output_type": "stream",
     "text": [
      "WARNING:tensorflow:5 out of the last 5 calls to <function TensorFlowTrainer.make_predict_function.<locals>.one_step_on_data_distributed at 0x000002AEF46C27A0> triggered tf.function retracing. Tracing is expensive and the excessive number of tracings could be due to (1) creating @tf.function repeatedly in a loop, (2) passing tensors with different shapes, (3) passing Python objects instead of tensors. For (1), please define your @tf.function outside of the loop. For (2), @tf.function has reduce_retracing=True option that can avoid unnecessary retracing. For (3), please refer to https://www.tensorflow.org/guide/function#controlling_retracing and https://www.tensorflow.org/api_docs/python/tf/function for  more details.\n",
      "\u001b[1m1/2\u001b[0m \u001b[32m━━━━━━━━━━\u001b[0m\u001b[37m━━━━━━━━━━\u001b[0m \u001b[1m0s\u001b[0m 305ms/stepWARNING:tensorflow:6 out of the last 6 calls to <function TensorFlowTrainer.make_predict_function.<locals>.one_step_on_data_distributed at 0x000002AEF46C27A0> triggered tf.function retracing. Tracing is expensive and the excessive number of tracings could be due to (1) creating @tf.function repeatedly in a loop, (2) passing tensors with different shapes, (3) passing Python objects instead of tensors. For (1), please define your @tf.function outside of the loop. For (2), @tf.function has reduce_retracing=True option that can avoid unnecessary retracing. For (3), please refer to https://www.tensorflow.org/guide/function#controlling_retracing and https://www.tensorflow.org/api_docs/python/tf/function for  more details.\n",
      "\u001b[1m2/2\u001b[0m \u001b[32m━━━━━━━━━━━━━━━━━━━━\u001b[0m\u001b[37m\u001b[0m \u001b[1m1s\u001b[0m 263ms/step\n"
     ]
    },
    {
     "data": {
      "text/plain": [
       "0.6521311291384477"
      ]
     },
     "execution_count": 29,
     "metadata": {},
     "output_type": "execute_result"
    }
   ],
   "source": [
    "from tensorflow.keras.models import Sequential\n",
    "from tensorflow.keras.layers import Dense, Dropout\n",
    "from tensorflow.keras.optimizers import Adam\n",
    "\n",
    "# Preprocessing the data for the neural network\n",
    "# Note: Assuming preprocessing (scaling for numerical, encoding for categorical) has already been applied as per previous steps\n",
    "# For demonstration, using preprocessed data directly\n",
    "\n",
    "# Defining the model architecture\n",
    "model_deep_nn = Sequential([\n",
    "    Dense(128, activation='relu', input_shape=(X_train_nn_preprocessed.shape[1],)),\n",
    "    Dropout(0.2),\n",
    "    Dense(64, activation='relu'),\n",
    "    Dropout(0.2),\n",
    "    Dense(32, activation='relu'),\n",
    "    Dropout(0.1),\n",
    "    Dense(1)  # Output layer\n",
    "])\n",
    "\n",
    "# Compile the model\n",
    "model_deep_nn.compile(optimizer=Adam(learning_rate=0.001), loss='mean_squared_error')\n",
    "\n",
    "# Training the model\n",
    "history_deep_nn = model_deep_nn.fit(X_train_nn_preprocessed, y_train_nn, validation_split=0.2, epochs=100, batch_size=32, verbose=0)\n",
    "\n",
    "# Evaluating the model using R2 score\n",
    "from sklearn.metrics import r2_score\n",
    "\n",
    "predictions_deep_nn = model_deep_nn.predict(X_test_nn_preprocessed)\n",
    "r2_score_deep_nn = r2_score(y_test_nn, predictions_deep_nn)\n",
    "\n",
    "r2_score_deep_nn\n"
   ]
  },
  {
   "cell_type": "markdown",
   "id": "6875089c",
   "metadata": {},
   "source": [
    "# * _Enhancing our Deep Neural Network Model_ *"
   ]
  },
  {
   "cell_type": "code",
   "execution_count": 30,
   "id": "db8292f1",
   "metadata": {},
   "outputs": [
    {
     "name": "stdout",
     "output_type": "stream",
     "text": [
      "\u001b[1m2/2\u001b[0m \u001b[32m━━━━━━━━━━━━━━━━━━━━\u001b[0m\u001b[37m\u001b[0m \u001b[1m0s\u001b[0m 132ms/step\n"
     ]
    },
    {
     "data": {
      "text/plain": [
       "0.6660232704339257"
      ]
     },
     "execution_count": 30,
     "metadata": {},
     "output_type": "execute_result"
    }
   ],
   "source": [
    "from tensorflow.keras.layers import BatchNormalization, LeakyReLU\n",
    "from tensorflow.keras.regularizers import l2\n",
    "\n",
    "# Example of an adjusted model architecture\n",
    "model_deep_nn_optimized = Sequential([\n",
    "    Dense(128, activation='relu', input_shape=(X_train_nn_preprocessed.shape[1],), kernel_regularizer=l2(0.001)),\n",
    "    BatchNormalization(),\n",
    "    Dropout(0.3),\n",
    "    Dense(64, kernel_regularizer=l2(0.001)),\n",
    "    LeakyReLU(alpha=0.1),\n",
    "    Dropout(0.3),\n",
    "    Dense(32, kernel_regularizer=l2(0.001)),\n",
    "    LeakyReLU(alpha=0.1),\n",
    "    Dropout(0.2),\n",
    "    Dense(1)  # Output layer\n",
    "])\n",
    "\n",
    "# Compile the model\n",
    "model_deep_nn.compile(optimizer=Adam(learning_rate=0.001), loss='mean_squared_error')\n",
    "\n",
    "# Training the model\n",
    "history_deep_nn = model_deep_nn.fit(X_train_nn_preprocessed, y_train_nn, validation_split=0.2, epochs=100, batch_size=32, verbose=0)\n",
    "\n",
    "# Evaluating the model using R2 score\n",
    "from sklearn.metrics import r2_score\n",
    "\n",
    "predictions_deep_nn = model_deep_nn.predict(X_test_nn_preprocessed)\n",
    "r2_score_deep_nn = r2_score(y_test_nn, predictions_deep_nn)\n",
    "\n",
    "r2_score_deep_nn\n"
   ]
  },
  {
   "cell_type": "code",
   "execution_count": null,
   "id": "4dd32937",
   "metadata": {},
   "outputs": [],
   "source": []
  },
  {
   "cell_type": "code",
   "execution_count": null,
   "id": "087d3ccc",
   "metadata": {},
   "outputs": [],
   "source": []
  },
  {
   "cell_type": "code",
   "execution_count": null,
   "id": "d6e18b36",
   "metadata": {},
   "outputs": [],
   "source": []
  }
 ],
 "metadata": {
  "kernelspec": {
   "display_name": "Python 3 (ipykernel)",
   "language": "python",
   "name": "python3"
  },
  "language_info": {
   "codemirror_mode": {
    "name": "ipython",
    "version": 3
   },
   "file_extension": ".py",
   "mimetype": "text/x-python",
   "name": "python",
   "nbconvert_exporter": "python",
   "pygments_lexer": "ipython3",
   "version": "3.11.5"
  }
 },
 "nbformat": 4,
 "nbformat_minor": 5
}
